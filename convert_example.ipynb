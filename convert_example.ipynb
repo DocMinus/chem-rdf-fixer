{
 "cells": [
  {
   "cell_type": "markdown",
   "metadata": {},
   "source": [
    "# RDF fixer converter example, Jupyter notebook version"
   ]
  },
  {
   "cell_type": "code",
   "execution_count": null,
   "metadata": {},
   "outputs": [],
   "source": [
    "\"\"\"\n",
    "Created on Sun Apr 18 20:00:00 2021\n",
    "RDF converter & fixer\n",
    "Version 1.05 (Apr 19 13:15:00 2021)\n",
    "\n",
    "@author: Alexander Minidis (DocMinus)\n",
    "\n",
    "license: MIT License\n",
    "Copyright (c) 2021 DocMinus\n",
    "\"\"\""
   ]
  },
  {
   "cell_type": "code",
   "execution_count": null,
   "metadata": {},
   "outputs": [],
   "source": [
    "import warnings\n",
    "\n",
    "warnings.filterwarnings(\"ignore\")\n",
    "import os\n",
    "import sys\n",
    "import argparse\n",
    "from rdfmodule import rdf_fixer\n"
   ]
  },
  {
   "cell_type": "code",
   "execution_count": null,
   "metadata": {},
   "outputs": [],
   "source": [
    "\n",
    "def main():\n",
    "    \"\"\"Loads & converts the file(s).\n",
    "    RDF file as input,\n",
    "    the corrected file as\n",
    "    _fixed.RDF output,\n",
    "    as well as tabular CSV output file (which stems from an internal pandas table).\n",
    "    This demo script is light-weight, only some simple error checking.\n",
    "    Only argument giving is the filename including path, e.g.\n",
    "    convert_example_no_helper.py /home/user/my_rdf_file.rdf\n",
    "    or\n",
    "    convert_example_no_helper.py /home/user/subdir/\n",
    "    (parses all rdfs in all of subdir and recursively)\n",
    "    \"\"\"\n",
    "    \n",
    "    # using parser is a bit overill in jupyter. But it remains here and might be added to the \n",
    "    # regular python script example at some point.\n",
    "    parser = argparse.ArgumentParser()\n",
    "    parser.add_argument(\"--input\", type=str, help=\"RDF filename or path containing RDFs\", default=\"\")\n",
    "    args = parser.parse_args('')\n",
    "    config = vars(args)\n",
    "    \n",
    "    # Enter the file or filepath here:\n",
    "    config[\"input\"] = \"./testfiles/reaxys_export.rdf\"\n",
    "    \n",
    "    if config[\"input\"] == \"\":\n",
    "        print(\"You need to enter a RDF filename or a path with RDF files!\")\n",
    "        sys.exit(1)\n",
    "\n",
    "    RDF_IN = config[\"input\"]\n",
    "    if os.path.isfile(RDF_IN):\n",
    "        print(\"Converting.\")\n",
    "        RDF_OK = os.path.splitext(RDF_IN)[0] + \"_fixed.rdf\"\n",
    "        print(RDF_OK)\n",
    "        RDF_CSV = os.path.splitext(RDF_IN)[0] + \".csv\"\n",
    "        rdf_fixer.convert(RDF_IN, RDF_OK, RDF_CSV)\n",
    "\n",
    "    elif os.path.isdir(RDF_IN):\n",
    "        zipped = rdf_fixer.subdir_walk(RDF_IN)\n",
    "        for x, y, z in zipped:\n",
    "            print(\"Converting file: \", x)\n",
    "            rdf_fixer.convert(x, y, z)\n",
    "    else:\n",
    "        print(\"Input error or file not found!\")\n",
    "\n",
    "    print(\"And done.\")\n",
    "\n",
    "    return None\n"
   ]
  },
  {
   "cell_type": "code",
   "execution_count": null,
   "metadata": {
    "scrolled": true
   },
   "outputs": [],
   "source": [
    "if __name__ == \"__main__\":\n",
    "\n",
    "    main()"
   ]
  },
  {
   "cell_type": "code",
   "execution_count": null,
   "metadata": {},
   "outputs": [],
   "source": []
  }
 ],
 "metadata": {
  "kernelspec": {
   "display_name": "Python 3",
   "language": "python",
   "name": "python3"
  },
  "language_info": {
   "codemirror_mode": {
    "name": "ipython",
    "version": 3
   },
   "file_extension": ".py",
   "mimetype": "text/x-python",
   "name": "python",
   "nbconvert_exporter": "python",
   "pygments_lexer": "ipython3",
   "version": "3.7.5"
  }
 },
 "nbformat": 4,
 "nbformat_minor": 4
}
