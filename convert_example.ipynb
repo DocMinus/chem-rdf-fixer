{
 "cells": [
  {
   "cell_type": "markdown",
   "metadata": {},
   "source": [
    "# RDF fixer converter example, Jupyter notebook version"
   ]
  },
  {
   "cell_type": "code",
   "execution_count": null,
   "metadata": {},
   "outputs": [],
   "source": [
    "\"\"\"\n",
    "Created on Sun Apr 18 20:00:00 2021\n",
    "RDF converter & fixer\n",
    "Version 2.01 (Apr 20 10:22:00 2021)\n",
    "\n",
    "@author: Alexander Minidis (DocMinus)\n",
    "\n",
    "license: MIT License\n",
    "Copyright (c) 2021 DocMinus\n",
    "\"\"\""
   ]
  },
  {
   "cell_type": "code",
   "execution_count": 1,
   "metadata": {},
   "outputs": [],
   "source": [
    "import warnings\n",
    "\n",
    "warnings.filterwarnings(\"ignore\")\n",
    "import os\n",
    "import sys\n",
    "import argparse"
   ]
  },
  {
   "cell_type": "code",
   "execution_count": 2,
   "metadata": {},
   "outputs": [],
   "source": [
    "# uncommmet the # before !pip if you haven't installed yet. \n",
    "# For testing though not necessary if you run the test in local repository\n",
    "#!pip install git+https://github.com/DocMinus/chem-rdf-fixer.git\n",
    "from rdfmodule import rdf_fixer\n"
   ]
  },
  {
   "cell_type": "markdown",
   "metadata": {},
   "source": [
    "Here the files are loaded & converted.<br>\n",
    "* RDF file or path to files as as input.\n",
    "* The corrected file as ends up as _\\_fixed.RDF_ output.\n",
    "* As well as tabular _CSV_ output file.\n",
    "* The original file remains untouched\n",
    "* Now the function also returns a zipped list of all file names if desired\n",
    "\n",
    "The cmd line demo script is after V2 even more light-weight.<br>\n",
    "Usage:<br>\n",
    "`convert_example.py /home/user/my_rdf_file.rdf`<br>\n",
    "or<br>\n",
    "`convert_example.py /home/user/subdir/`"
   ]
  },
  {
   "cell_type": "code",
   "execution_count": 3,
   "metadata": {},
   "outputs": [],
   "source": [
    "def main():\n",
    "\n",
    "    \n",
    "    # using parser is a bit overkill in jupyter. But it helps for the command line \"emulation\" \n",
    "    parser = argparse.ArgumentParser()\n",
    "    parser.add_argument(\"--input\", type=str, help=\"RDF filename or path containing RDFs\", default=\"\")\n",
    "    args = parser.parse_args('')\n",
    "    config = vars(args)\n",
    "    \n",
    "    # Enter the file or filepath here:\n",
    "    config[\"input\"] = \"./testfiles/reaxys_export.rdf\"\n",
    "    \n",
    "    if config[\"input\"] == \"\":\n",
    "        print(\"You need to enter a RDF filename or a path with RDF files!\")\n",
    "        sys.exit(1)\n",
    "\n",
    "    print(\"Initiating conversion...\")\n",
    "    rdf_fixer.fix(config[\"input\"])\n",
    "    print(\"And done.\")\n",
    "    \n",
    "    print(\"\\nAlternatively:\")\n",
    "    new_files = rdf_fixer.fix(config[\"input\"])\n",
    "    for file_in, file_ok, file_csv in new_files:\n",
    "        print(file_in, \"\\n\\t-> \", file_ok, \"\\n\\t-> \", file_csv)   \n",
    "    \n",
    "    return None\n"
   ]
  },
  {
   "cell_type": "code",
   "execution_count": 4,
   "metadata": {
    "scrolled": true
   },
   "outputs": [
    {
     "name": "stdout",
     "output_type": "stream",
     "text": [
      "Initiating conversion...\n",
      "Converting file:  ./testfiles/reaxys_export.rdf\n",
      "And done.\n",
      "\n",
      "Alternatively:\n",
      "Converting file:  ./testfiles/reaxys_export.rdf\n",
      "./testfiles/reaxys_export.rdf \n",
      "\t->  ./testfiles/reaxys_export_fixed.rdf \n",
      "\t->  ./testfiles/reaxys_export.csv\n"
     ]
    }
   ],
   "source": [
    "if __name__ == \"__main__\":\n",
    "\n",
    "    main()"
   ]
  },
  {
   "cell_type": "code",
   "execution_count": null,
   "metadata": {},
   "outputs": [],
   "source": []
  }
 ],
 "metadata": {
  "kernelspec": {
   "display_name": "Python 3",
   "language": "python",
   "name": "python3"
  },
  "language_info": {
   "codemirror_mode": {
    "name": "ipython",
    "version": 3
   },
   "file_extension": ".py",
   "mimetype": "text/x-python",
   "name": "python",
   "nbconvert_exporter": "python",
   "pygments_lexer": "ipython3",
   "version": "3.7.9"
  }
 },
 "nbformat": 4,
 "nbformat_minor": 4
}
