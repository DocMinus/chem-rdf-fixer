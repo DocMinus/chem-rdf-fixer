{
 "cells": [
  {
   "cell_type": "markdown",
   "metadata": {},
   "source": [
    "# RDF fixer converter example, Jupyter notebook version"
   ]
  },
  {
   "cell_type": "code",
   "execution_count": 1,
   "metadata": {},
   "outputs": [
    {
     "data": {
      "text/plain": [
       "'\\nCreated on Sun Apr 18 20:00:00 2021\\nRDF converter & fixer\\nVersion 2.2.2 (Apr 20 20:06:00 2021)\\nUpdate: Dec 21, 2022\\n\\n@author: Alexander Minidis (DocMinus)\\n\\nlicense: MIT License\\nCopyright (c) 2021-2022 DocMinus\\n'"
      ]
     },
     "execution_count": 1,
     "metadata": {},
     "output_type": "execute_result"
    }
   ],
   "source": [
    "\"\"\"\n",
    "Created on Sun Apr 18 20:00:00 2021\n",
    "RDF converter & fixer\n",
    "Version 2.2.3 (Apr 20 20:06:00 2021)\n",
    "Update: Dec 30, 2022\n",
    "\n",
    "@author: Alexander Minidis (DocMinus)\n",
    "\n",
    "license: MIT License\n",
    "Copyright (c) 2021-2023 DocMinus\n",
    "\"\"\""
   ]
  },
  {
   "cell_type": "code",
   "execution_count": 2,
   "metadata": {},
   "outputs": [],
   "source": [
    "import warnings\n",
    "\n",
    "warnings.filterwarnings(\"ignore\")\n",
    "import os\n",
    "import sys\n",
    "import argparse"
   ]
  },
  {
   "cell_type": "code",
   "execution_count": 3,
   "metadata": {},
   "outputs": [],
   "source": [
    "# uncommmet the # before !pip if you haven't installed yet.\n",
    "# For testing though not necessary if you run the test in local repository\n",
    "#!pip install git+https://github.com/DocMinus/chem-rdf-fixer.git\n",
    "from rdfmodule import rdf_fixer"
   ]
  },
  {
   "attachments": {},
   "cell_type": "markdown",
   "metadata": {},
   "source": [
    "Here the files are loaded & converted.<br>\n",
    "* RDF file or path to files as as input.\n",
    "* The corrected file as ends up as _\\_fixed.RDF_ output.\n",
    "* As well as tabular _CSV_ output file.\n",
    "* The original file remains untouched\n",
    "<br>\n",
    "Usage:<br>\n",
    "`convert_example.py /home/user/my_rdf_file.rdf True/False`<br>\n",
    "the flag is optional<br>\n",
    "or<br>\n",
    "`convert_example.py /home/user/subdir/`"
   ]
  },
  {
   "cell_type": "code",
   "execution_count": 4,
   "metadata": {},
   "outputs": [],
   "source": [
    "def main():\n",
    "\n",
    "    # using parser is a bit overkill in jupyter. But it helps for the command line \"emulation\"\n",
    "    parser = argparse.ArgumentParser()\n",
    "    parser.add_argument(\n",
    "        \"--input\", type=str, help=\"RDF filename or path containing RDFs\", default=\"\"\n",
    "    )\n",
    "    parser.add_argument(\n",
    "        \"--convert\",\n",
    "        type=str,\n",
    "        help=\"Only fix, or both, fix+convert to csv\",\n",
    "        default=True,\n",
    "    )\n",
    "    args = parser.parse_args(\"\")\n",
    "    config = vars(args)\n",
    "\n",
    "    # Enter the file or filepath here:\n",
    "    config[\"input\"] = \"./testfiles/reaxys_export.rdf\"\n",
    "\n",
    "    if config[\"input\"] == \"\":\n",
    "        print(\"You need to enter a RDF filename or a path with RDF files!\")\n",
    "        sys.exit(1)\n",
    "\n",
    "    print(\"Initiating conversion...\")\n",
    "    rdf_fixer.fix(config[\"input\"], config[\"convert\"])\n",
    "    # or simply since default in the module is True:\n",
    "    # rdf_fixer.fix(config[\"input\"])\n",
    "    print(\"And done.\")\n",
    "\n",
    "    return None"
   ]
  },
  {
   "cell_type": "code",
   "execution_count": 5,
   "metadata": {
    "scrolled": true
   },
   "outputs": [
    {
     "name": "stdout",
     "output_type": "stream",
     "text": [
      "Initiating conversion...\n",
      "Fixing File:  ./testfiles/reaxys_export.rdf\n",
      "Converting to csv.\n",
      "And done.\n"
     ]
    }
   ],
   "source": [
    "if __name__ == \"__main__\":\n",
    "\n",
    "    main()"
   ]
  },
  {
   "cell_type": "code",
   "execution_count": null,
   "metadata": {},
   "outputs": [],
   "source": []
  }
 ],
 "metadata": {
  "kernelspec": {
   "display_name": "Python 3.8.13 ('allroundclone')",
   "language": "python",
   "name": "python3"
  },
  "language_info": {
   "codemirror_mode": {
    "name": "ipython",
    "version": 3
   },
   "file_extension": ".py",
   "mimetype": "text/x-python",
   "name": "python",
   "nbconvert_exporter": "python",
   "pygments_lexer": "ipython3",
   "version": "3.8.13 (default, Oct 21 2022, 23:50:54) \n[GCC 11.2.0]"
  },
  "vscode": {
   "interpreter": {
    "hash": "8c8b18bb1c498fb13b69937711c75eea1176a795d16ac61866017d053f0aa3ea"
   }
  }
 },
 "nbformat": 4,
 "nbformat_minor": 4
}
